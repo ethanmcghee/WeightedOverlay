{
 "cells": [
  {
   "cell_type": "code",
   "execution_count": null,
   "metadata": {},
   "outputs": [],
   "source": [
    "import arcpy\n",
    "\n",
    "def Model():  # Model\n",
    "\n",
    "    # To allow overwriting outputs change overwriteOutput option to True.\n",
    "    arcpy.env.overwriteOutput = False\n",
    "\n",
    "    # Check out any necessary licenses.\n",
    "    arcpy.CheckOutExtension(\"spatial\")\n",
    "    arcpy.CheckOutExtension(\"3D\")\n",
    "\n",
    "    LineDetail_Clip = \"LineDetail_Clip\"\n",
    "    FeederDetail_Clip = \"FeederDetail_Clip\"\n",
    "    CAL_FIRE_Facilities_for_Wildland_Fire_Protection_Clip = \"CAL_FIRE_Facilities_for_Wildland_Fire_Protection_Clip\"\n",
    "    Liquefaction_and_Landslide_Hazard_GSA_Combining_Designation = \"Liquefaction_and_Landslide_Hazard_GSA_Combining_Designation\""
   ]
  },
  {
   "cell_type": "code",
   "execution_count": null,
   "metadata": {},
   "outputs": [],
   "source": [
    "# Process: Euclidean Distance (Euclidean Distance) (sa)\n",
    "EucDist_LineDetail = \"C:\\\\Users\\\\ethan\\\\OneDrive\\\\Desktop\\\\GIS\\\\REA\\\\REA\\\\python.gdb\\\\EucDist_LineDetail\"\n",
    "Euclidean_Distance = EucDist_LineDetail\n",
    "Output_direction_raster = \"\"\n",
    "Out_back_direction_raster = \"\"\n",
    "with arcpy.EnvManager(mask=r\"ModelBuilder\\County_Boundary\"):\n",
    "    EucDist_LineDetail = arcpy.sa.EucDistance(in_source_data=\"LineDetail_Clip\", maximum_distance=None, cell_size=\"50\", out_direction_raster=Output_direction_raster, distance_method=\"PLANAR\", in_barrier_data=\"\", out_back_direction_raster=Out_back_direction_raster)\n",
    "    EucDist_LineDetail.save(Euclidean_Distance)"
   ]
  },
  {
   "cell_type": "code",
   "execution_count": null,
   "metadata": {},
   "outputs": [],
   "source": [
    "# Process: Euclidean Distance (2) (Euclidean Distance) (sa)\n",
    "EucDist_FeederDetail = \"C:\\\\Users\\\\ethan\\\\OneDrive\\\\Desktop\\\\GIS\\\\REA\\\\REA\\\\python.gdb\\\\EucDist_FeederDetail\"\n",
    "Euclidean_Distance_2_ = EucDist_FeederDetail\n",
    "Output_direction_raster_2_ = \"\"\n",
    "Out_back_direction_raster_2_ = \"\"\n",
    "with arcpy.EnvManager(mask=r\"ModelBuilder\\County_Boundary\"):\n",
    "    EucDist_FeederDetail = arcpy.sa.EucDistance(in_source_data=\"FeederDetail_Clip\", maximum_distance=None, cell_size=\"50\", out_direction_raster=Output_direction_raster_2_, distance_method=\"PLANAR\", in_barrier_data=\"\", out_back_direction_raster=Out_back_direction_raster_2_)\n",
    "    EucDist_FeederDetail.save(Euclidean_Distance_2_)"
   ]
  },
  {
   "cell_type": "code",
   "execution_count": null,
   "metadata": {},
   "outputs": [],
   "source": [
    "# Process: Euclidean Distance (3) (Euclidean Distance) (sa)\n",
    "EucDist_FireStations = \"C:\\\\Users\\\\ethan\\\\OneDrive\\\\Desktop\\\\GIS\\\\REA\\\\REA\\\\python.gdb\\\\EucDist_FireStations\"\n",
    "Euclidean_Distance_3_ = EucDist_FireStations\n",
    "Output_direction_raster_3_ = \"\"\n",
    "Out_back_direction_raster_3_ = \"\"\n",
    "with arcpy.EnvManager(mask=r\"ModelBuilder\\County_Boundary\"):\n",
    "    EucDist_FireStations = arcpy.sa.EucDistance(in_source_data=\"CAL_FIRE_Facilities_for_Wildland_Fire_Protection_Clip\", maximum_distance=None, cell_size=\"50\", out_direction_raster=Output_direction_raster_3_, distance_method=\"PLANAR\", in_barrier_data=\"\", out_back_direction_raster=Out_back_direction_raster_3_)\n",
    "    EucDist_FireStations.save(Euclidean_Distance_3_)"
   ]
  },
  {
   "cell_type": "code",
   "execution_count": null,
   "metadata": {},
   "outputs": [],
   "source": [
    "# Process: Euclidean Distance (4) (Euclidean Distance) (sa)\n",
    "EucDist_Landslide = \"C:\\\\Users\\\\ethan\\\\OneDrive\\\\Desktop\\\\GIS\\\\REA\\\\REA\\\\python.gdb\\\\EucDist_Landslide\"\n",
    "Euclidean_Distance_4_ = EucDist_Landslide\n",
    "Output_direction_raster_4_ = \"\"\n",
    "Out_back_direction_raster_4_ = \"\"\n",
    "with arcpy.EnvManager(mask=r\"ModelBuilder\\County_Boundary\"):\n",
    "    EucDist_Landslide = arcpy.sa.EucDistance(in_source_data=\"Liquefaction_and_Landslide_Hazard_GSA_Combining_Designation\", maximum_distance=None, cell_size=\"3.46433944143081E-03\", out_direction_raster=Output_direction_raster_4_, distance_method=\"PLANAR\", in_barrier_data=\"\", out_back_direction_raster=Out_back_direction_raster_4_)\n",
    "    EucDist_Landslide.save(Euclidean_Distance_4_)"
   ]
  },
  {
   "cell_type": "code",
   "execution_count": null,
   "metadata": {},
   "outputs": [],
   "source": [
    "# Process: Reclassify (Reclassify) (sa)\n",
    "Reclass_LineDetail = \"C:\\\\Users\\\\ethan\\\\OneDrive\\\\Desktop\\\\GIS\\\\REA\\\\REA\\\\python.gdb\\\\Reclass_LineDetail\"\n",
    "Reclassify = Reclass_LineDetail\n",
    "Reclass_LineDetail = arcpy.sa.Reclassify(in_raster=\"EucDist_LineDetail\", reclass_field=\"VALUE\", remap=\"0 1624.076660 1;1624.076660 3248.153320 2;3248.153320 4872.229980 3;4872.229980 6496.306641 4;6496.306641 8120.383301 5;8120.383301 9744.459961 6;9744.459961 11368.536621 7;11368.536621 12992.613281 8;12992.613281 14616.689941 9;14616.689941 16240.766602 10\", missing_values=\"NODATA\")\n",
    "Reclass_LineDetail.save(Reclassify)"
   ]
  },
  {
   "cell_type": "code",
   "execution_count": null,
   "metadata": {},
   "outputs": [],
   "source": [
    "# Process: Reclassify (2) (Reclassify) (sa)\n",
    "Reclass_FeederDetail = \"C:\\\\Users\\\\ethan\\\\OneDrive\\\\Desktop\\\\GIS\\\\REA\\\\REA\\\\python.gdb\\\\Reclass_FeederDetail\"\n",
    "Reclassify_2_ = Reclass_FeederDetail\n",
    "Reclass_FeederDetail = arcpy.sa.Reclassify(in_raster=\"EucDist_FeederDetail\", reclass_field=\"VALUE\", remap=\"0 1279.032813 1;1279.032813 2558.065625 2;2558.065625 3837.098438 3;3837.098438 5116.131250 4;5116.131250 6395.164062 5;6395.164062 7674.196875 6;7674.196875 8953.229687 7;8953.229687 10232.262500 8;10232.262500 11511.295312 9;11511.295312 12790.328125 10\", missing_values=\"NODATA\")\n",
    "Reclass_FeederDetail.save(Reclassify_2_)"
   ]
  },
  {
   "cell_type": "code",
   "execution_count": null,
   "metadata": {},
   "outputs": [],
   "source": [
    "# Process: Reclassify (3) (Reclassify) (sa)\n",
    "Reclass_FireStations = \"C:\\\\Users\\\\ethan\\\\OneDrive\\\\Desktop\\\\GIS\\\\REA\\\\REA\\\\python.gdb\\\\Reclass_FireStations\"\n",
    "Reclassify_3_ = Reclass_FireStations\n",
    "Reclass_FireStations = arcpy.sa.Reclassify(in_raster=\"EucDist_FireStations\", reclass_field=\"VALUE\", remap=\"0 3715.171484 1;3715.171484 7430.342969 2;7430.342969 11145.514453 3;11145.514453 14860.685938 4;14860.685938 18575.857422 5;18575.857422 22291.028906 6;22291.028906 26006.200391 7;26006.200391 29721.371875 8;29721.371875 33436.543359 9;33436.543359 37151.714844 10\", missing_values=\"NODATA\")\n",
    "Reclass_FireStations.save(Reclassify_3_)"
   ]
  },
  {
   "cell_type": "code",
   "execution_count": null,
   "metadata": {},
   "outputs": [],
   "source": [
    "# Process: Reclassify (4) (Reclassify) (sa)\n",
    "Reclass_Landslides = \"C:\\\\Users\\\\ethan\\\\OneDrive\\\\Desktop\\\\GIS\\\\REA\\\\REA\\\\python.gdb\\\\Reclass_Landslides\"\n",
    "Reclassify_4_ = Reclass_Landslides\n",
    "Reclass_Landslides = arcpy.sa.Reclassify(in_raster=\"EucDist_Landslide\", reclass_field=\"VALUE\", remap=\"0 0.024352 10;0.024352 0.048703 9;0.048703 0.073055 8;0.073055 0.097406 7;0.097406 0.121758 6;0.121758 0.146110 5;0.146110 0.170461 4;0.170461 0.194813 3;0.194813 0.219165 2;0.219165 0.243516 1\", missing_values=\"NODATA\")\n",
    "Reclass_Landslides.save(Reclassify_4_)"
   ]
  },
  {
   "cell_type": "code",
   "execution_count": null,
   "metadata": {},
   "outputs": [],
   "source": [
    "# Process: Weighted Overlay (Weighted Overlay) (sa)\n",
    "Weighted_Overlay_55 = \"C:\\\\Users\\\\ethan\\\\OneDrive\\\\Desktop\\\\GIS\\\\REA\\\\REA\\\\python.gdb\\\\Weighted_Overlay\"\n",
    "Weighted_Overlay = Weighted_Overlay_55\n",
    "Weighted_Overlay_55 = arcpy.sa.WeightedOverlay(in_weighted_overlay_table=[[\"Reclassify\", 0.4, \"VALUE\", \"1 1;2 2;3 3;4 4;5 6;6 7;7 8;8 9;9 10;10 1\"], [\"Reclassify_2_\", 0.4, \"VALUE\", \"1 1;2 2;3 3;4 4;5 6;6 7;7 8;8 9;9 10;10 1\"], [\"Reclassify_3_\", 0.1, \"VALUE\", \"1 1;2 2;3 3;4 4;5 6;6 7;7 8;8 9;9 10;10 1\"], [\"Reclassify_4_\", 0.1, \"VALUE\", \"1 1;2 2;3 3;4 4;5 5;6 6;7 7;8 8;9 9;10 10\"]])\n",
    "Weighted_Overlay_55.save(Weighted_Overlay)\n"
   ]
  },
  {
   "cell_type": "code",
   "execution_count": null,
   "metadata": {},
   "outputs": [],
   "source": [
    "if __name__ == '__main__':\n",
    "    # Global Environment settings\n",
    "    with arcpy.EnvManager(scratchWorkspace=r\"C:\\Users\\ethan\\OneDrive\\Desktop\\GIS\\REA\\REA\\python.gdb\", workspace=r\"C:\\Users\\ethan\\OneDrive\\Desktop\\GIS\\REA\\REA\\python.gdb\"):\n",
    "        Model()"
   ]
  },
  {
   "cell_type": "code",
   "execution_count": null,
   "metadata": {},
   "outputs": [],
   "source": []
  },
  {
   "cell_type": "code",
   "execution_count": null,
   "metadata": {},
   "outputs": [],
   "source": []
  }
 ],
 "metadata": {
  "kernelspec": {
   "display_name": "ArcGISPro",
   "language": "Python",
   "name": "python3"
  },
  "language_info": {
   "file_extension": ".py",
   "name": "python",
   "version": "3"
  }
 },
 "nbformat": 4,
 "nbformat_minor": 2
}
