{
 "cells": [
  {
   "cell_type": "code",
   "execution_count": null,
   "metadata": {},
   "outputs": [],
   "source": [
    "import arcpy\n",
    "from arcpy import env\n",
    "from arcpy.sa import *\n",
    "\n",
    "# Set environment settings - GDB where data is found\n",
    "env.workspace = \"C:\\\\Users\\\\x.gdb\"\n",
    "\n",
    "# Set Mask environment - County Boundary\n",
    "arcpy.env.mask = \"C:\\\\Users\\\\x.gdb\\\\County_Boundary\"\n",
    "\n",
    "# Set local variables\n",
    "inSourceData = \"x\"\n",
    "maxDistance = None\n",
    "cellSize = \"x\"\n",
    "outDirectionRaster = \"C:\\\\Users\\\\x.gdb\\\\x\"\n",
    "\n",
    "# Execute EucDistance\n",
    "x1 = EucDistance(inSourceData, maxDistance, cellSize, outDirectionRaster)\n",
    "\n",
    "# Save the output \n",
    "x1.save(\"C:\\\\Users\\\\x.gdb\\\\x\")"
   ]
  },
  {
   "cell_type": "code",
   "execution_count": null,
   "metadata": {},
   "outputs": [],
   "source": [
    "# Set environment settings - GDB where data is found\n",
    "env.workspace = \"C:\\\\Users\\\\x.gdb\"\n",
    "\n",
    "# Set Mask environment - County Boundary\n",
    "arcpy.env.mask = \"C:\\\\Users\\\\x.gdb\\\\County_Boundary\"\n",
    "\n",
    "# Set local variables\n",
    "inSourceData = \"y\"\n",
    "maxDistance = None\n",
    "cellSize = \"y\"\n",
    "outDirectionRaster = \"C:\\\\Users\\\\x.gdb\\\\y\"\n",
    "\n",
    "# Execute EucDistance\n",
    "y1 = EucDistance(inSourceData, maxDistance, cellSize, outDirectionRaster)\n",
    "\n",
    "# Save the output \n",
    "y1.save(\"C:\\\\Users\\\\x.gdb\\\\y\")"
   ]
  },
  {
   "cell_type": "code",
   "execution_count": null,
   "metadata": {},
   "outputs": [],
   "source": [
    "# Set environment settings - GDB where data is found\n",
    "env.workspace = \"C:\\\\Users\\\\x.gdb\"\n",
    "\n",
    "# Set Mask environment - County Boundary\n",
    "arcpy.env.mask = \"C:\\\\Users\\\\x.gdb\\\\County_Boundary\"\n",
    "\n",
    "# Set local variables\n",
    "inSourceData = \"z\"\n",
    "maxDistance = None\n",
    "cellSize = \"z\"\n",
    "outDirectionRaster = \"C:\\\\Users\\\\x.gdb\\\\z\"\n",
    "\n",
    "# Execute EucDistance\n",
    "z1 = EucDistance(inSourceData, maxDistance, cellSize, outDirectionRaster)\n",
    "\n",
    "# Save the output \n",
    "z1.save(\"C:\\\\Users\\\\x.gdb\\\\z\")"
   ]
  },
  {
   "cell_type": "code",
   "execution_count": null,
   "metadata": {},
   "outputs": [],
   "source": [
    "# Before Reclassifying, Change Symbology of Euclidian Distance Output to Classify, Using Quantile as the Method and 10 classes, with 10 being most favorable. \n",
    "x2 = Reclassify(\"x\", \"Value\", \n",
    "                         RemapRange([[0,number,10],[number,number,9],[number,number,8], [number,number,7],\n",
    "                                     [number,number,6],[number,number,5],[number,number,4],\n",
    "                                     [number,number,3],[number,number,2],[number,number,1]]))\n",
    "# Save the output \n",
    "x2.save(\"C:\\\\Users\\\\ethan\\\\OneDrive\\\\Desktop\\\\GIS\\\\REA\\\\REA\\\\python2.gdb\\\\x3\")"
   ]
  },
  {
   "cell_type": "code",
   "execution_count": null,
   "metadata": {},
   "outputs": [],
   "source": [
    "# Before Reclassifying, Change Symbology of Euclidian Distance Output to Classify, Using Quantile as the Method and 10 classes, with 10 being most favorable. \n",
    "y2 = Reclassify(\"y\", \"Value\", \n",
    "                         RemapRange([[0,number,10],[number,number,9],[number,number,8], [number,number,7],\n",
    "                                     [number,number,6],[number,number,5],[number,number,4],\n",
    "                                     [number,number,3],[number,number,2],[number,number,1]]))\n",
    "# Save the output \n",
    "y2.save(\"C:\\\\Users\\\\ethan\\\\OneDrive\\\\Desktop\\\\GIS\\\\REA\\\\REA\\\\python2.gdb\\\\y3\")"
   ]
  },
  {
   "cell_type": "code",
   "execution_count": null,
   "metadata": {},
   "outputs": [],
   "source": [
    "# Before Reclassifying, Change Symbology of Euclidian Distance Output to Classify, Using Quantile as the Method and 10 classes, with 10 being most favorable. \n",
    "z2 = Reclassify(\"z\", \"Value\", \n",
    "                         RemapRange([[0,number,10],[number,number,9],[number,number,8], [number,number,7],\n",
    "                                     [number,number,6],[number,number,5],[number,number,4],\n",
    "                                     [number,number,3],[number,number,2],[number,number,1]]))\n",
    "# Save the output \n",
    "z2.save(\"C:\\\\Users\\\\ethan\\\\OneDrive\\\\Desktop\\\\GIS\\\\REA\\\\REA\\\\python2.gdb\\\\z3\")"
   ]
  },
  {
   "cell_type": "code",
   "execution_count": null,
   "metadata": {},
   "outputs": [],
   "source": [
    "# Set local variables\n",
    "in_raster1 = \"x2\"\n",
    "in_raster2 = \"y2\"\n",
    "in_raster3 = \"z2\"\n",
    "\n",
    "# Excuate RasterCalculator(Minus) function\n",
    "RastCalc = RasterCalculator([in_raster1, in_raster2,in_raster3], [\"x\", \"y\", \"z\"],\n",
    "                                       \"(x*0.2)+(y*0.2)+(z*0.6)\")\n",
    "\n",
    "# Save the output\n",
    "RastCalc.save(\"C:\\\\Users\\\\ethan\\\\OneDrive\\\\Desktop\\\\GIS\\\\REA\\\\REA\\\\python2.gdb\\\\RastCalc\")"
   ]
  }
 ],
 "metadata": {
  "kernelspec": {
   "display_name": "ArcGISPro",
   "language": "Python",
   "name": "python3"
  },
  "language_info": {
   "file_extension": ".py",
   "name": "python",
   "version": "3"
  }
 },
 "nbformat": 4,
 "nbformat_minor": 2
}
