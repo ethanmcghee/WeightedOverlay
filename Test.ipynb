{
 "cells": [
  {
   "cell_type": "code",
   "execution_count": 4,
   "metadata": {},
   "outputs": [],
   "source": [
    "import arcpy\n",
    "from arcpy import env\n",
    "from arcpy.sa import *\n",
    "\n",
    "# Set environment settings - GDB where data is found\n",
    "env.workspace = \"C:\\\\Users\\\\ethan\\\\OneDrive\\\\Desktop\\\\GIS\\\\REA\\\\REA\\\\REA.gdb\"\n",
    "\n",
    "# Set Mask environment - County Boundary\n",
    "arcpy.env.mask = \"C:\\\\Users\\\\ethan\\\\OneDrive\\\\Desktop\\\\GIS\\\\REA\\\\REA\\\\REA.gdb\\\\County_Boundary\"\n",
    "\n",
    "# Set local variables\n",
    "inSourceData = \"LineDetail_Clip\"\n",
    "maxDistance = None\n",
    "cellSize = \"50\"\n",
    "outDirectionRaster = \"C:\\\\Users\\\\ethan\\\\OneDrive\\\\Desktop\\\\GIS\\\\REA\\\\REA\\\\python2.gdb\\\\Line\"\n",
    "\n",
    "# Execute EucDistance\n",
    "Line = EucDistance(inSourceData, maxDistance, cellSize, outDirectionRaster)\n",
    "\n",
    "# Save the output \n",
    "Line.save(\"C:\\\\Users\\\\ethan\\\\OneDrive\\\\Desktop\\\\GIS\\\\REA\\\\REA\\\\python2.gdb\\\\Line\")"
   ]
  },
  {
   "cell_type": "code",
   "execution_count": 5,
   "metadata": {},
   "outputs": [],
   "source": [
    "# Set environment settings\n",
    "env.workspace = \"C:\\\\Users\\\\ethan\\\\OneDrive\\\\Desktop\\\\GIS\\\\REA\\\\REA\\\\REA.gdb\"\n",
    "\n",
    "# Set Mask environment\n",
    "arcpy.env.mask = \"C:\\\\Users\\\\ethan\\\\OneDrive\\\\Desktop\\\\GIS\\\\REA\\\\REA\\\\REA.gdb\\\\County_Boundary\"\n",
    "\n",
    "# Set local variables\n",
    "inSourceData = \"FeederDetail_Clip\"\n",
    "maxDistance = None\n",
    "cellSize = \"50\"\n",
    "outDirectionRaster = \"C:\\\\Users\\\\ethan\\\\OneDrive\\\\Desktop\\\\GIS\\\\REA\\\\REA\\\\python2.gdb\\\\Feeder\"\n",
    "\n",
    "# Execute EucDistance\n",
    "Feeder = EucDistance(inSourceData, maxDistance, cellSize, outDirectionRaster)\n",
    "\n",
    "# Save the output \n",
    "Feeder.save(\"C:\\\\Users\\\\ethan\\\\OneDrive\\\\Desktop\\\\GIS\\\\REA\\\\REA\\\\python2.gdb\\\\Feeder\")"
   ]
  },
  {
   "cell_type": "code",
   "execution_count": 6,
   "metadata": {},
   "outputs": [],
   "source": [
    "# Set environment settings\n",
    "env.workspace = \"C:\\\\Users\\\\ethan\\\\OneDrive\\\\Desktop\\\\GIS\\\\REA\\\\REA\\\\REA.gdb\"\n",
    "\n",
    "# Set Mask environment\n",
    "arcpy.env.mask = \"C:\\\\Users\\\\ethan\\\\OneDrive\\\\Desktop\\\\GIS\\\\REA\\\\REA\\\\REA.gdb\\\\County_Boundary\"\n",
    "\n",
    "# Set local variables\n",
    "inSourceData = \"CAL_FIRE_Facilities_for_Wild\"\n",
    "maxDistance = None\n",
    "cellSize = \"50\"\n",
    "outDirectionRaster = \"C:\\\\Users\\\\ethan\\\\OneDrive\\\\Desktop\\\\GIS\\\\REA\\\\REA\\\\python2.gdb\\\\Fire\"\n",
    "\n",
    "# Execute EucDistance\n",
    "Fire = EucDistance(inSourceData, maxDistance, cellSize, outDirectionRaster)\n",
    "\n",
    "# Save the output \n",
    "Fire.save(\"C:\\\\Users\\\\ethan\\\\OneDrive\\\\Desktop\\\\GIS\\\\REA\\\\REA\\\\python2.gdb\\\\Fire\")"
   ]
  },
  {
   "cell_type": "code",
   "execution_count": 11,
   "metadata": {},
   "outputs": [],
   "source": [
    "# Before Reclassifying, Change Symbology of Euclidian Distance Output to Classify, Using Quantile as the Method and 10 classes, with 10 being most favorable. \n",
    "ReLine = Reclassify(\"Line\", \"Value\", \n",
    "                         RemapRange([[0,127.378562,10],[127.378563,382.135685,9],[382.135686,700.582089,8], [700.58209,1146.407054,7],\n",
    "                                     [1146.407055,1655.921301,6],[1655.921302,2292.814108,5],[2292.814109,3120.774759,4],\n",
    "                                     [3120.77476,4330.871094,3],[4330.871095,6241.549517,2],[6241.549518,16240.766602,1]]))\n",
    "# Save the output \n",
    "ReLine.save(\"C:\\\\Users\\\\ethan\\\\OneDrive\\\\Desktop\\\\GIS\\\\REA\\\\REA\\\\python2.gdb\\\\ReLine_Good\")"
   ]
  },
  {
   "cell_type": "code",
   "execution_count": 12,
   "metadata": {},
   "outputs": [],
   "source": [
    "# Before Reclassifying, Change Symbology of Euclidian Distance Output to Classify, Using Quantile as the Method and 10 classes, with 10 being most favorable. \n",
    "ReFeeder = Reclassify(\"Feeder\", \"Value\", \n",
    "                         RemapRange([[0,50.15815,10],[50.15816,200.632598,9],[200.632599,401.265196,8], [401.265197,702.214093,7],\n",
    "                                     [702.214094,1103.479289,6],[1103.47929,1655.218934,5],[1655.218935,2357.433027,4],\n",
    "                                     [2357.433028,3360.596017,3],[3360.596018,4965.656801,2],[4965.656802,12790.328125,1]]))\n",
    "# Save the output \n",
    "ReFeeder.save(\"C:\\\\Users\\\\ethan\\\\OneDrive\\\\Desktop\\\\GIS\\\\REA\\\\REA\\\\python2.gdb\\\\ReFeeder_Good\")"
   ]
  },
  {
   "cell_type": "code",
   "execution_count": 13,
   "metadata": {},
   "outputs": [],
   "source": [
    "# Before Reclassifying, Change Symbology of Euclidian Distance Output to Classify, Using Quantile as the Method and 10 classes, with 10 being most favorable. \n",
    "ReFire = Reclassify(\"Fire\", \"Value\", \n",
    "                         RemapRange([[0,2858.237684,10],[2858.237685,4168.263289,9],[4168.26329,5359.195657,8], [5359.195658,6550.128025,7],\n",
    "                                     [6550.128026,7860.153631,6],[7860.153632,9289.272472,5],[9289.272473,11075.671025,4],\n",
    "                                     [11075.671026,13695.722235,3],[13695.722236,17863.985524,2],[17863.985525,30368.775391,1]]))\n",
    "# Save the output \n",
    "ReFire.save(\"C:\\\\Users\\\\ethan\\\\OneDrive\\\\Desktop\\\\GIS\\\\REA\\\\REA\\\\python2.gdb\\\\ReFire_Good\")"
   ]
  },
  {
   "cell_type": "code",
   "execution_count": 16,
   "metadata": {},
   "outputs": [],
   "source": [
    "# Set local variables\n",
    "in_raster1 = \"ReLine\"\n",
    "in_raster2 = \"ReFeeder\"\n",
    "in_raster3 = \"ReFire\"\n",
    "\n",
    "# Excuate RasterCalculator(Minus) function\n",
    "RastCalc = RasterCalculator([in_raster1, in_raster2,in_raster3], [\"x\", \"y\", \"z\"],\n",
    "                                       \"(x*0.2)+(y*0.2)+(z*0.6)\")\n",
    "\n",
    "# Save the output\n",
    "RastCalc.save(\"C:\\\\Users\\\\ethan\\\\OneDrive\\\\Desktop\\\\GIS\\\\REA\\\\REA\\\\python2.gdb\\\\RastCalc_FireHeavy\")"
   ]
  },
  {
   "cell_type": "code",
   "execution_count": null,
   "metadata": {},
   "outputs": [],
   "source": []
  }
 ],
 "metadata": {
  "kernelspec": {
   "display_name": "ArcGISPro",
   "language": "Python",
   "name": "python3"
  },
  "language_info": {
   "file_extension": ".py",
   "name": "python",
   "version": "3"
  }
 },
 "nbformat": 4,
 "nbformat_minor": 2
}
